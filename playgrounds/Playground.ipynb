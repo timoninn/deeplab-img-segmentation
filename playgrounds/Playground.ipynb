{
 "cells": [
  {
   "cell_type": "code",
   "execution_count": 17,
   "metadata": {},
   "outputs": [],
   "source": [
    "import tensorflow as tf\n",
    "from tensorflow.contrib import slim\n",
    "\n",
    "import numpy as np\n",
    "\n",
    "import time\n",
    "import os\n",
    "\n",
    "from PIL import Image\n",
    "from matplotlib import gridspec\n",
    "from matplotlib import pyplot as plt\n",
    "%matplotlib inline"
   ]
  },
  {
   "cell_type": "code",
   "execution_count": 2,
   "metadata": {},
   "outputs": [],
   "source": [
    "log_dir = '/Users/nikki/Desktop/models/research/deeplab/graph/1/'\n",
    "model_dir_path = '/Users/nikki/Development/deeplab-img-segmentation/model_graph/deeplabv3_pascal_train_aug/'\n",
    "\n",
    "LABEL_NAMES = np.asarray([\n",
    "    'background', 'aeroplane', 'bicycle', 'bird', 'boat', 'bottle', 'bus',\n",
    "    'car', 'cat', 'chair', 'cow', 'diningtable', 'dog', 'horse', 'motorbike',\n",
    "    'person', 'pottedplant', 'sheep', 'sofa', 'train', 'tv'\n",
    "])"
   ]
  },
  {
   "cell_type": "code",
   "execution_count": 3,
   "metadata": {},
   "outputs": [],
   "source": [
    "def create_color_map(num_labels):\n",
    "    colormap = np.zeros((num_labels, 3), dtype=np.uint8)\n",
    "    for i in range(num_labels):\n",
    "        colormap[i, :] = i * 10\n",
    "    return colormap"
   ]
  },
  {
   "cell_type": "code",
   "execution_count": 4,
   "metadata": {},
   "outputs": [],
   "source": [
    "def visualize_seg(image, seg_map):\n",
    "    color_map = create_color_map(len(LABEL_NAMES))\n",
    "    \n",
    "    plt.figure(figsize=(20, 5))\n",
    "\n",
    "    plt.subplot(141)\n",
    "    plt.imshow(image)\n",
    "    plt.axis('off')\n",
    "    \n",
    "    plt.subplot(142)\n",
    "    plt.imshow(image)\n",
    "    plt.imshow(color_map[seg_map], alpha=0.8)\n",
    "    plt.axis('off')\n",
    "    \n",
    "    plt.subplot(143)\n",
    "    plt.imshow(color_map[seg_map])\n",
    "    plt.axis('off')\n",
    "    \n",
    "    unique_labels = np.unique(seg_map)\n",
    "    plt.subplot(144)\n",
    "    plt.imshow([color_map[unique_labels]], interpolation='nearest')\n",
    "    plt.xticks(range(len(unique_labels)), LABEL_NAMES[unique_labels])\n",
    "    plt.grid('off')"
   ]
  },
  {
   "cell_type": "code",
   "execution_count": 5,
   "metadata": {},
   "outputs": [],
   "source": [
    "def resize_img(image):\n",
    "    INPUT_SIZE = 513\n",
    "    \n",
    "    width, height = image.size\n",
    "    resize_ratio = 1.0 * INPUT_SIZE / max(width, height)\n",
    "    target_size = (int(resize_ratio * width), int(resize_ratio * height))\n",
    "    resized_image = image.convert('RGB').resize(target_size, Image.ANTIALIAS)\n",
    "    \n",
    "    return resized_image"
   ]
  },
  {
   "cell_type": "code",
   "execution_count": 6,
   "metadata": {},
   "outputs": [],
   "source": [
    "def pad_to_bounding_box(sess, image):\n",
    "    img_placeholder = tf.placeholder(shape=(None, None, 3), dtype=tf.float32)\n",
    "    \n",
    "    rrr = tf.constant(shape=[1], dtype=tf.float32, value=127.5)\n",
    "    qq = img_placeholder - rrr\n",
    "    \n",
    "    resized_img = tf.image.pad_to_bounding_box(image=qq, \n",
    "                                               offset_height=0, \n",
    "                                               offset_width=0, \n",
    "                                               target_height=513,\n",
    "                                              target_width=513)\n",
    "    \n",
    "    rezzz = resized_img + rrr\n",
    "    \n",
    "    res_img = sess.run(rezzz, feed_dict={img_placeholder: image})\n",
    "    return res_img"
   ]
  },
  {
   "cell_type": "code",
   "execution_count": 13,
   "metadata": {},
   "outputs": [],
   "source": [
    "class DeepLab(object):\n",
    "    OUTPUT_TENSOR_NAME_PAD = 'Pad:0'\n",
    "    INPUT_TENSOR_NAME = 'ImageTensor:0'\n",
    "    OUTPUT_TENSOR_NAME = 'SemanticPredictions:0'\n",
    "    \n",
    "    \n",
    "    INPUT_TENSOR_NAME_ADD = 'add_2:0'\n",
    "    OUTPUT_TENSOR_NAME_TEST = 'SemanticPredictions/size:0'\n",
    "    \n",
    "    DECODER_OUTPUT_TENSOR = 'decoder/decoder_conv1_pointwise/Relu:0'\n",
    "    \n",
    "    def __init__(self):\n",
    "        self.graph = tf.Graph()\n",
    "\n",
    "        file = open(model_dir_path + 'frozen_inference_graph.pb', mode='rb')\n",
    "        graph_def = tf.GraphDef.FromString(file.read())\n",
    "        file.close()\n",
    "\n",
    "        if graph_def is None:\n",
    "            raise RuntimeError('Cannot find inference graph.')\n",
    "\n",
    "        with self.graph.as_default():\n",
    "            tf.import_graph_def(graph_def, name='')\n",
    "\n",
    "        self.sess = tf.Session(graph=self.graph)\n",
    "\n",
    "\n",
    "    def run(self, image):\n",
    "        t0 = time.time()\n",
    "        \n",
    "        resized_image = resize_img(image=image)\n",
    "        width, height = resized_image.size\n",
    "        \n",
    "        with tf.Session() as sess:\n",
    "            bounded_image = pad_to_bounding_box(sess, resized_image)\n",
    "        \n",
    "        # 1x129x129x256\n",
    "        decoder_output = self.sess.run(\n",
    "            self.DECODER_OUTPUT_TENSOR,\n",
    "            feed_dict={\n",
    "                       self.INPUT_TENSOR_NAME_ADD: bounded_image,\n",
    "                       self.OUTPUT_TENSOR_NAME_TEST: np.array([1, height, width])\n",
    "                    })\n",
    "        \n",
    "#         with tf.Session() as sess:\n",
    "#             # 1x129x129x21\n",
    "# #             logits = slim.conv2d(decoder_output, num_outputs=21, kernel_size=1)\n",
    "            \n",
    "#             upsampled_logits = tf.image.resize_bilinear(images=decoder_output, size=(513, 513), align_corners=True)\n",
    "#             prediction = tf.argmax(upsampled_logits, axis=3)\n",
    "#             seg_map_tensor = tf.slice(input_=prediction, begin=(0, 0, 0), size=[1, height, width])\n",
    "            \n",
    "            \n",
    "#             sess.run(tf.global_variables_initializer())\n",
    "#             seg_map = sess.run(seg_map_tensor)[0]\n",
    "            \n",
    "        print(time.time() - t0)\n",
    "        return decoder_output\n",
    "#         return resized_image, seg_map\n",
    "        \n",
    "    \n",
    "    def save_graph(self):\n",
    "        writer = tf.summary.FileWriter(logdir=log_dir+'my_net', graph=self.graph)"
   ]
  },
  {
   "cell_type": "code",
   "execution_count": 14,
   "metadata": {},
   "outputs": [],
   "source": [
    "deeplab = DeepLab()"
   ]
  },
  {
   "cell_type": "code",
   "execution_count": 15,
   "metadata": {},
   "outputs": [
    {
     "name": "stdout",
     "output_type": "stream",
     "text": [
      "16.90623688697815\n"
     ]
    }
   ],
   "source": [
    "image = Image.open('/Users/nikki/Development/deeplab-img-segmentation/data/train_color_batch/170908_065647862_Camera_6.jpg')\n",
    "decoder_out = deeplab.run(image)"
   ]
  },
  {
   "cell_type": "code",
   "execution_count": 16,
   "metadata": {},
   "outputs": [
    {
     "name": "stdout",
     "output_type": "stream",
     "text": [
      "(1, 129, 129, 256)\n"
     ]
    }
   ],
   "source": [
    "print(decoder_out.shape)"
   ]
  },
  {
   "cell_type": "code",
   "execution_count": 20,
   "metadata": {},
   "outputs": [],
   "source": [
    "def save_decoder_outputs(folder):\n",
    "    img_names = os.listdir(folder)\n",
    "    \n",
    "    decoder_outputs = np.array([deeplab.run(Image.open(folder+img)) for img in img_names])\n",
    "    decoder_outputs.dump('train_color_batch.npy')\n",
    "    \n",
    "    print(decoder_outputs.shape)"
   ]
  },
  {
   "cell_type": "code",
   "execution_count": 21,
   "metadata": {},
   "outputs": [
    {
     "name": "stdout",
     "output_type": "stream",
     "text": [
      "13.107985973358154\n",
      "13.463176012039185\n",
      "12.997730016708374\n",
      "12.814552068710327\n",
      "12.771435022354126\n",
      "12.60319209098816\n",
      "12.637753963470459\n",
      "12.608979940414429\n",
      "12.719921112060547\n",
      "(9, 1, 129, 129, 256)\n"
     ]
    }
   ],
   "source": [
    "save_decoder_outputs('data/train_color_batch/')"
   ]
  },
  {
   "cell_type": "code",
   "execution_count": null,
   "metadata": {},
   "outputs": [],
   "source": []
  }
 ],
 "metadata": {
  "kernelspec": {
   "display_name": "Python 3",
   "language": "python",
   "name": "python3"
  },
  "language_info": {
   "codemirror_mode": {
    "name": "ipython",
    "version": 3
   },
   "file_extension": ".py",
   "mimetype": "text/x-python",
   "name": "python",
   "nbconvert_exporter": "python",
   "pygments_lexer": "ipython3",
   "version": "3.5.3"
  }
 },
 "nbformat": 4,
 "nbformat_minor": 1
}
