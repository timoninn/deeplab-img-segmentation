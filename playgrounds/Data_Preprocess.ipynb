{
 "cells": [
  {
   "cell_type": "code",
   "execution_count": 1,
   "metadata": {},
   "outputs": [
    {
     "name": "stderr",
     "output_type": "stream",
     "text": [
      "/Library/Frameworks/Python.framework/Versions/3.5/lib/python3.5/importlib/_bootstrap.py:222: RuntimeWarning: compiletime version 3.6 of module 'tensorflow.python.framework.fast_tensor_util' does not match runtime version 3.5\n",
      "  return f(*args, **kwds)\n",
      "/Library/Frameworks/Python.framework/Versions/3.5/lib/python3.5/site-packages/h5py/__init__.py:36: FutureWarning: Conversion of the second argument of issubdtype from `float` to `np.floating` is deprecated. In future, it will be treated as `np.float64 == np.dtype(float).type`.\n",
      "  from ._conv import register_converters as _register_converters\n"
     ]
    }
   ],
   "source": [
    "import os\n",
    "import shutil\n",
    "import matplotlib.pyplot as plt\n",
    "\n",
    "import tensorflow as tf\n",
    "\n",
    "import numpy as np\n",
    "\n",
    "from PIL import Image\n",
    "%matplotlib inline"
   ]
  },
  {
   "cell_type": "code",
   "execution_count": 28,
   "metadata": {},
   "outputs": [],
   "source": [
    "count = 1\n",
    "for filename in os.listdir('data/train/train_color/'):\n",
    "    filename_without_ex = os.path.splitext(filename)[0]\n",
    "    label_filename = filename_without_ex + '_instanceIds.png'\n",
    "    shutil.copy('data/train/train_color/'+filename, 'data/train_color_batch/')\n",
    "    shutil.copy('data/train/train_label_all/'+label_filename, 'data/train_label_batch/')\n",
    "    count += 1\n",
    "    if count == 10:\n",
    "        break"
   ]
  },
  {
   "cell_type": "code",
   "execution_count": 2,
   "metadata": {},
   "outputs": [],
   "source": [
    "filename = 'data/train/train_label/170908_065647862_Camera_6_instanceIds.png'\n",
    "image = Image.open(filename)"
   ]
  },
  {
   "cell_type": "code",
   "execution_count": 3,
   "metadata": {},
   "outputs": [
    {
     "name": "stdout",
     "output_type": "stream",
     "text": [
      "[  255 33000 33001 33002 33003 33004 33005 39000 39001 65535]\n"
     ]
    }
   ],
   "source": [
    "print(np.unique(np.array(image)))"
   ]
  },
  {
   "cell_type": "code",
   "execution_count": 4,
   "metadata": {},
   "outputs": [
    {
     "data": {
      "text/plain": [
       "<matplotlib.image.AxesImage at 0x121ea7a20>"
      ]
     },
     "execution_count": 4,
     "metadata": {},
     "output_type": "execute_result"
    },
    {
     "data": {
      "image/png": "[encoded data removed]",
      "text/plain": [
       "<matplotlib.figure.Figure at 0x11fab05f8>"
      ]
     },
     "metadata": {},
     "output_type": "display_data"
    }
   ],
   "source": [
    "plt.imshow(np.array(image) // 1000)"
   ]
  },
  {
   "cell_type": "code",
   "execution_count": 5,
   "metadata": {},
   "outputs": [
    {
     "name": "stdout",
     "output_type": "stream",
     "text": [
      "(2710, 3384)\n"
     ]
    }
   ],
   "source": [
    "print(np.asarray(image).shape)"
   ]
  },
  {
   "cell_type": "code",
   "execution_count": 6,
   "metadata": {},
   "outputs": [],
   "source": [
    "with tf.Session() as sess:\n",
    "    placeholder_image = tf.placeholder(dtype=tf.uint8, shape=(None, None, None))\n",
    "    qwe = tf.reshape(tensor=placeholder_image, shape=(2710, 3384, 1))\n",
    "    \n",
    "    resize_image = tf.image.resize_images(qwe, size=[129, 129], method=1)\n",
    "    \n",
    "    resize_image = tf.cast(resize_image, dtype=tf.uint8)\n",
    "    resized_image = sess.run(resize_image, feed_dict={placeholder_image: [np.array(image) // 1000]})"
   ]
  },
  {
   "cell_type": "code",
   "execution_count": 7,
   "metadata": {},
   "outputs": [
    {
     "data": {
      "text/plain": [
       "<matplotlib.image.AxesImage at 0x1458a85f8>"
      ]
     },
     "execution_count": 7,
     "metadata": {},
     "output_type": "execute_result"
    },
    {
     "data": {
      "image/png": "[encoded data removed]",
      "text/plain": [
       "<matplotlib.figure.Figure at 0x121e76470>"
      ]
     },
     "metadata": {},
     "output_type": "display_data"
    }
   ],
   "source": [
    "plt.imshow(np.squeeze(resized_image))"
   ]
  },
  {
   "cell_type": "code",
   "execution_count": 271,
   "metadata": {},
   "outputs": [
    {
     "name": "stdout",
     "output_type": "stream",
     "text": [
      "[ 0 33 39 65]\n"
     ]
    }
   ],
   "source": [
    "print(np.unique(resized_image))"
   ]
  },
  {
   "cell_type": "code",
   "execution_count": 48,
   "metadata": {},
   "outputs": [],
   "source": [
    "def map_to_classes(image):\n",
    "    \"\"\"\n",
    "    car, 33\n",
    "    motorbicycle, 34\n",
    "    bicycle, 35\n",
    "    person, 36\n",
    "    truck, 38\n",
    "    bus, 39\n",
    "    tricycle, 40\n",
    "    \"\"\"\n",
    "    \n",
    "    result = np.zeros(shape=image.shape, dtype=np.uint8)\n",
    "    result[image == 33] = 1\n",
    "    result[image == 34] = 2\n",
    "    result[image == 35] = 3\n",
    "    result[image == 36] = 4\n",
    "    result[image == 38] = 5\n",
    "    result[image == 39] = 6\n",
    "    result[image == 40] = 7\n",
    "    \n",
    "    return result"
   ]
  },
  {
   "cell_type": "code",
   "execution_count": 283,
   "metadata": {},
   "outputs": [],
   "source": [
    "mapped_image = map_to_classes(resized_image)"
   ]
  },
  {
   "cell_type": "code",
   "execution_count": 286,
   "metadata": {},
   "outputs": [
    {
     "name": "stdout",
     "output_type": "stream",
     "text": [
      "(129, 129, 1)\n"
     ]
    }
   ],
   "source": [
    "print(mapped_image.shape)"
   ]
  },
  {
   "cell_type": "code",
   "execution_count": 287,
   "metadata": {},
   "outputs": [
    {
     "data": {
      "text/plain": [
       "<matplotlib.image.AxesImage at 0x1368a06a0>"
      ]
     },
     "execution_count": 287,
     "metadata": {},
     "output_type": "execute_result"
    },
    {
     "data": {
      "image/png": "[encoded data removed]",
      "text/plain": [
       "<matplotlib.figure.Figure at 0x1367d4ef0>"
      ]
     },
     "metadata": {},
     "output_type": "display_data"
    }
   ],
   "source": [
    "plt.imshow(np.squeeze(mapped_image))"
   ]
  },
  {
   "cell_type": "code",
   "execution_count": 49,
   "metadata": {},
   "outputs": [],
   "source": [
    "def preprocess_image(image):\n",
    "    with tf.Session() as sess:\n",
    "        placeholder_image = tf.placeholder(dtype=tf.uint8, shape=(None, None, None))\n",
    "        qwe = tf.reshape(tensor=placeholder_image, shape=(2710, 3384, 1))\n",
    "        resize_image = tf.image.resize_images(qwe, size=[129, 129], method=1)\n",
    "        resize_image = tf.cast(resize_image, dtype=tf.uint8)\n",
    "        resized_image = sess.run(resize_image, feed_dict={placeholder_image: [np.array(image) // 1000]})\n",
    "    \n",
    "        mapped_image = map_to_classes(resized_image)\n",
    "    \n",
    "        labels = tf.one_hot(np.squeeze(mapped_image), depth=8, axis=-1)\n",
    "        result_labels = sess.run(labels)\n",
    "        \n",
    "        return result_labels"
   ]
  },
  {
   "cell_type": "code",
   "execution_count": 288,
   "metadata": {},
   "outputs": [],
   "source": [
    "with tf.Session() as sess:\n",
    "    labels = tf.one_hot(np.squeeze(mapped_image), depth=8, axis=-1)\n",
    "    \n",
    "    result_labels = sess.run(labels)"
   ]
  },
  {
   "cell_type": "code",
   "execution_count": 50,
   "metadata": {},
   "outputs": [],
   "source": [
    "def pickle_images(folder):\n",
    "    img_names = os.listdir(folder)\n",
    "    \n",
    "    images = np.array([np.array(preprocess_image(Image.open(folder + img_name))) for img_name in img_names])\n",
    "    images.dump('train_label_batch.npy')\n",
    "    print(images.shape)"
   ]
  },
  {
   "cell_type": "code",
   "execution_count": 51,
   "metadata": {},
   "outputs": [
    {
     "name": "stdout",
     "output_type": "stream",
     "text": [
      "(9, 129, 129, 8)\n"
     ]
    }
   ],
   "source": [
    "pickle_images('data/train_label_batch/')"
   ]
  },
  {
   "cell_type": "code",
   "execution_count": 35,
   "metadata": {},
   "outputs": [],
   "source": [
    "def unpickle_images(path):\n",
    "    return np.load(path)"
   ]
  },
  {
   "cell_type": "code",
   "execution_count": 36,
   "metadata": {},
   "outputs": [],
   "source": [
    "images = unpickle_images('train_label_batch.npy')"
   ]
  },
  {
   "cell_type": "code",
   "execution_count": 37,
   "metadata": {},
   "outputs": [
    {
     "name": "stdout",
     "output_type": "stream",
     "text": [
      "(9, 2710, 3384)\n"
     ]
    }
   ],
   "source": [
    "print(images.shape)"
   ]
  },
  {
   "cell_type": "code",
   "execution_count": 42,
   "metadata": {},
   "outputs": [
    {
     "data": {
      "text/plain": [
       "<matplotlib.image.AxesImage at 0x124a7f0b8>"
      ]
     },
     "execution_count": 42,
     "metadata": {},
     "output_type": "execute_result"
    },
    {
     "data": {
      "image/png": "[encoded data removed]",
      "text/plain": [
       "<matplotlib.figure.Figure at 0x1249926d8>"
      ]
     },
     "metadata": {},
     "output_type": "display_data"
    }
   ],
   "source": [
    "plt.imshow(images[7])"
   ]
  },
  {
   "cell_type": "code",
   "execution_count": null,
   "metadata": {},
   "outputs": [],
   "source": []
  }
 ],
 "metadata": {
  "kernelspec": {
   "display_name": "Python 3",
   "language": "python",
   "name": "python3"
  },
  "language_info": {
   "codemirror_mode": {
    "name": "ipython",
    "version": 3
   },
   "file_extension": ".py",
   "mimetype": "text/x-python",
   "name": "python",
   "nbconvert_exporter": "python",
   "pygments_lexer": "ipython3",
   "version": "3.5.3"
  }
 },
 "nbformat": 4,
 "nbformat_minor": 2
}
