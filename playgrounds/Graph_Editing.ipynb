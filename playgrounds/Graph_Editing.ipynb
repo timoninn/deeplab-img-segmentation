{
 "cells": [
  {
   "cell_type": "code",
   "execution_count": 9,
   "metadata": {},
   "outputs": [],
   "source": [
    "import tensorflow as tf\n",
    "from tensorflow.contrib import slim\n",
    "from tensorflow.contrib import graph_editor as ge"
   ]
  },
  {
   "cell_type": "code",
   "execution_count": 2,
   "metadata": {},
   "outputs": [],
   "source": [
    "log_dir = '/Users/nikki/Desktop/models/research/deeplab/graph/1/'\n",
    "model_dir_path = '/Users/nikki/Development/deeplab-img-segmentation/model_graph/deeplabv3_pascal_train_aug/'"
   ]
  },
  {
   "cell_type": "code",
   "execution_count": 52,
   "metadata": {},
   "outputs": [],
   "source": [
    "class Graph(object):    \n",
    "    def __init__(self):\n",
    "        self.graph = tf.Graph()\n",
    "\n",
    "        file = open(model_dir_path + 'frozen_inference_graph.pb', mode='rb')\n",
    "        graph_def = tf.GraphDef.FromString(file.read())\n",
    "        file.close()\n",
    "\n",
    "        if graph_def is None:\n",
    "            raise RuntimeError('Cannot find inference graph.')\n",
    "\n",
    "        with self.graph.as_default():\n",
    "            tf.import_graph_def(graph_def, name='')\n",
    "\n",
    "    def save(self, graph=None):\n",
    "        graph = self.graph if graph==None else graph\n",
    "        writer = tf.summary.FileWriter(logdir=log_dir+'my_net_test', graph=self.graph)\n",
    "        \n",
    "    def modify(self):\n",
    "        sub_g = ge.sgv_scope('xception_65/*', graph=self.graph)\n",
    "        print(sub_g.inputs[0])\n",
    "        print(sub_g.outputs[-1])\n",
    "#         writer = tf.summary.FileWriter(logdir=log_dir+'my_net_test', graph=sss.graph)"
   ]
  },
  {
   "cell_type": "code",
   "execution_count": 53,
   "metadata": {},
   "outputs": [
    {
     "name": "stdout",
     "output_type": "stream",
     "text": [
      "Tensor(\"sub_7:0\", shape=(1, 513, 513, 3), dtype=float32)\n",
      "Tensor(\"xception_65/exit_flow/block2/unit_1/xception_module/separable_conv3_pointwise/Relu:0\", shape=(1, 65, 65, 2048), dtype=float32)\n"
     ]
    }
   ],
   "source": [
    "graph = Graph()\n",
    "graph.modify()"
   ]
  },
  {
   "cell_type": "code",
   "execution_count": null,
   "metadata": {},
   "outputs": [],
   "source": []
  }
 ],
 "metadata": {
  "kernelspec": {
   "display_name": "Python 3",
   "language": "python",
   "name": "python3"
  },
  "language_info": {
   "codemirror_mode": {
    "name": "ipython",
    "version": 3
   },
   "file_extension": ".py",
   "mimetype": "text/x-python",
   "name": "python",
   "nbconvert_exporter": "python",
   "pygments_lexer": "ipython3",
   "version": "3.5.3"
  }
 },
 "nbformat": 4,
 "nbformat_minor": 2
}
